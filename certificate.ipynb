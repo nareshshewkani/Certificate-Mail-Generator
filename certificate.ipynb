{
 "cells": [
  {
   "attachments": {},
   "cell_type": "markdown",
   "metadata": {},
   "source": [
    "#### Standard Imports\n",
    "\n",
    "#### Note: Install the following libraries using command prompt first, if you haven't\n",
    "\n",
    "`pip install python-opencv`\n",
    "\n",
    "`pip install matplotlib`\n"
   ]
  },
  {
   "cell_type": "code",
   "execution_count": null,
   "metadata": {},
   "outputs": [],
   "source": [
    "import cv2\n",
    "import matplotlib.pyplot as plt"
   ]
  },
  {
   "attachments": {},
   "cell_type": "markdown",
   "metadata": {},
   "source": [
    "### Certificate Image generation"
   ]
  },
  {
   "cell_type": "code",
   "execution_count": null,
   "metadata": {},
   "outputs": [],
   "source": [
    "image = cv2.imread(r\"E:\\Firefox Downloads\\Navy & Turqoise Modern Technology Business Webinar Certificate(3).png\") # paramter is certificate template url\n",
    "\n",
    "name = \"Shewkani Naresh\" \n",
    "\n",
    "middle_point = (989, 743) # only for reference \n",
    "\n",
    "start_point = 989 - (len(name)*29) # 58.5 is the length of each character (in this case)\n",
    "\n",
    "cv2.putText(image, name, (start_point, 743), cv2.FONT_HERSHEY_TRIPLEX, 3,(223,225,57), 3) \n",
    "\n",
    "# Following 2 lines are used to display certificate, to be used only while testing to set the co-ordinates of text\n",
    "# Comment during production mode\n",
    "fig, ax = plt.subplots()\n",
    "\n",
    "ax.imshow(cv2.cvtColor(image, cv2.COLOR_BGR2RGB));"
   ]
  },
  {
   "cell_type": "code",
   "execution_count": null,
   "metadata": {},
   "outputs": [],
   "source": [
    "# Save the certificate image\n",
    "\n",
    "cv2.imwrite(name + \".jpg\", image);\n",
    "\n",
    "# Usually jpg format is good enough but if the image quality is degrading, then save image in png instead of jpg"
   ]
  },
  {
   "attachments": {},
   "cell_type": "markdown",
   "metadata": {},
   "source": [
    "Standard imports\n",
    "\n",
    "Note : Run command `pip install fpdf2` in command prompt if you haven't already"
   ]
  },
  {
   "cell_type": "code",
   "execution_count": null,
   "metadata": {},
   "outputs": [],
   "source": [
    "from fpdf import FPDF"
   ]
  },
  {
   "attachments": {},
   "cell_type": "markdown",
   "metadata": {},
   "source": [
    "### Conversion to PDF"
   ]
  },
  {
   "cell_type": "code",
   "execution_count": null,
   "metadata": {},
   "outputs": [],
   "source": [
    "CERTIFICATE_WIDTH = 2000\n",
    "CERTIFICATE_HEIGHT = 1414\n",
    "\n",
    "pdf = FPDF()\n",
    "\n",
    "pdf.add_page(format=(CERTIFICATE_WIDTH/2.83,CERTIFICATE_HEIGHT/2.83))\n",
    "\n",
    "pdf.image(name +\".jpg\", 0, 0, CERTIFICATE_WIDTH/2.83)\n",
    "\n",
    "pdf.output(name+\".pdf\")"
   ]
  },
  {
   "attachments": {},
   "cell_type": "markdown",
   "metadata": {},
   "source": [
    "### Conversion to PDF (with external clickable link)"
   ]
  },
  {
   "cell_type": "code",
   "execution_count": null,
   "metadata": {},
   "outputs": [],
   "source": [
    "CERTIFICATE_WIDTH = 2000\n",
    "CERTIFICATE_HEIGHT = 1414\n",
    "\n",
    "pdf = FPDF()\n",
    "\n",
    "# Create a new blank page in PDF\n",
    "pdf.add_page(format=(CERTIFICATE_WIDTH/2.83,CERTIFICATE_HEIGHT/2.83)) \n",
    "\n",
    "# Add certificate image to the blank page\n",
    "pdf.image(name +\".jpg\", 0, 0, CERTIFICATE_WIDTH/2.83)\n",
    "\n",
    "# Set font for the hyperlink text\n",
    "pdf.set_font(\"helvetica\", size=90)\n",
    "\n",
    "# Cell is the clickable cell in the PDF that hyperlinks to the provided link\n",
    "pdf.cell(w=870, h=600, txt=\"Click here\", border=0, align=\"C\", link=\"https://www.linkedin.com/feed/update/urn:li:activity:7012127711259193344\")\n",
    "# Width and Height Parameters in the cell are used to set position of cell, The cell is in center of the rectangle \n",
    "# created and its size is equal to the size of the text.\n",
    "\n",
    "pdf.output(name+\".pdf\")"
   ]
  },
  {
   "attachments": {},
   "cell_type": "markdown",
   "metadata": {},
   "source": [
    "### Reading Data from Excel Sheet"
   ]
  },
  {
   "attachments": {},
   "cell_type": "markdown",
   "metadata": {},
   "source": [
    "Standard imports"
   ]
  },
  {
   "attachments": {},
   "cell_type": "markdown",
   "metadata": {},
   "source": [
    "Note: Run the following command to install the required library\n",
    "\n",
    "`pip install openpyxl`"
   ]
  },
  {
   "cell_type": "code",
   "execution_count": null,
   "metadata": {},
   "outputs": [],
   "source": [
    "import openpyxl"
   ]
  },
  {
   "cell_type": "code",
   "execution_count": null,
   "metadata": {},
   "outputs": [],
   "source": [
    "workbook = openpyxl.load_workbook(\"participants.xlsx\")\n",
    "\n",
    "sheet = workbook.active\n",
    "\n",
    "for i in range(0, 215):\n",
    "    if sheet.cell(row=i, column=1) is None:\n",
    "        pass\n",
    "    else:\n",
    "        # Run your code in loop here\n",
    "        print(sheet.cell(row=i, column=1))\n"
   ]
  }
 ],
 "metadata": {
  "kernelspec": {
   "display_name": "Python 3",
   "language": "python",
   "name": "python3"
  },
  "language_info": {
   "name": "python",
   "version": "3.10.2 (tags/v3.10.2:a58ebcc, Jan 17 2022, 14:12:15) [MSC v.1929 64 bit (AMD64)]"
  },
  "orig_nbformat": 4,
  "vscode": {
   "interpreter": {
    "hash": "b9b90f56be7a04dce6a072eb590a527d5c6deefa0e43e3cbc6ba4a95203c47c6"
   }
  }
 },
 "nbformat": 4,
 "nbformat_minor": 2
}
