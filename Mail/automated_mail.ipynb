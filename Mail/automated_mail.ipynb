{
 "cells": [
  {
   "attachments": {},
   "cell_type": "markdown",
   "metadata": {},
   "source": [
    "Install all the following required libraries in command prompt or terminal"
   ]
  },
  {
   "attachments": {},
   "cell_type": "markdown",
   "metadata": {},
   "source": [
    "Standard Imports"
   ]
  },
  {
   "cell_type": "code",
   "execution_count": null,
   "metadata": {},
   "outputs": [],
   "source": [
    "from email.message import EmailMessage\n",
    "import ssl\n",
    "import smtplib\n",
    "import openpyxl\n",
    "import os\n",
    "from dotenv import load_dotenv"
   ]
  },
  {
   "cell_type": "code",
   "execution_count": null,
   "metadata": {},
   "outputs": [],
   "source": [
    "# Make sure to create a `.env` file to run the following line of code\n",
    "load_dotenv()\n",
    "\n",
    "workbook = openpyxl.load_workbook(\"participants.xlsx\")\n",
    "sheet = workbook.active\n",
    "\n",
    "email_sender = \"ai_ds.aicolegion@ves.ac.in\"\n",
    "email_password = os.getenv(\"mail_passcode\")\n",
    "em = EmailMessage()\n",
    "subj = \"AI CoLegion's Hack-AI-Thon: Participation Certificate\"\n",
    "\n",
    "def html_text():\n",
    "    em.add_alternative(\n",
    "        f\"\"\"\\\n",
    "        <!DOCTYPE html>\n",
    "        <html>\n",
    "            <body>\n",
    "                    <p>Hello {name}!</p>\n",
    "                    <br>\n",
    "                    Thank you for participating in this hackathon organised by <b>AI CoLegion</b> in association with <b>GeeksforGeeks</b>.\n",
    "                    <br>\n",
    "                    With over 80+ teams, the event was a great success and we are grateful for your presence and enthusiasm. Here's the certificate of participation, you will find it attached with the mail.\n",
    "                    <br>\n",
    "                    <br>\n",
    "                    ---\n",
    "                    <br>\n",
    "                    Regards,\n",
    "                    <br>\n",
    "                    Team AI CoLegion\n",
    "                    <br>\n",
    "                    <br>\n",
    "                    <a href=\"https://www.linkedin.com/company/ai-colegion-vesit/\">\n",
    "                                    <img src=\"https://upload.wikimedia.org/wikipedia/commons/thumb/8/81/LinkedIn_icon.svg/120px-LinkedIn_icon.svg.png\" alt=\"LinkedIn\" style=\"width:40px; height:40px;\" />\n",
    "                    &nbsp;\n",
    "                    </a>\n",
    "                    <a href=\"https://www.instagram.com/aicolegion_vesit/\"> <img src=\"https://i.imgur.com/l6kR6Av.png\" alt =\"Instagram\" style=\"width: 40px; height:40px;\" /> </a>\n",
    "                </p>\n",
    "            </body>\n",
    "        </html>\n",
    "    \"\"\",\n",
    "    subtype=\"html\",\n",
    ")\n",
    "\n",
    "em[\"From\"] = email_sender\n",
    "em[\"Subject\"] = subj\n",
    "context = ssl.create_default_context()\n",
    "# email_receiver = '2020.naresh.shewkani@ves.ac.in'\n",
    "for i in range(2,215):    #first index is inclusive, last index is exclusive\n",
    "    if sheet.cell(row=i, column=2).value is None:\n",
    "        pass\n",
    "    else:\n",
    "        email_receiver = sheet.cell(row=i,column=2).value\n",
    "        name = sheet.cell(row=i,column=1).value\n",
    "        html_text()\n",
    "        pdf_path = f'generated_pdf/{name}.pdf' \n",
    "        with open(pdf_path, 'rb') as f:\n",
    "            file_data = f.read()\n",
    "            file_name = name + '.pdf'\n",
    "        em.add_attachment(file_data, maintype='application',subtype='octet-stream',filename=file_name)\n",
    "        em['To'] = email_receiver\n",
    "        with smtplib.SMTP_SSL('smtp.gmail.com', 465, context=context) as smtp:\n",
    "            # with smtplib.SMTP('smtp.gmail.com', 587) as smtp:\n",
    "            #     smtp.starttls()\n",
    "            smtp.login(email_sender, email_password)\n",
    "            smtp.sendmail(email_sender, email_receiver, em.as_string())\n",
    "            print(f'Message sent to {name} with the index {i}')\n",
    "            em.clear_content()\n",
    "        del em['To']"
   ]
  }
 ],
 "metadata": {
  "kernelspec": {
   "display_name": "Python 3",
   "language": "python",
   "name": "python3"
  },
  "language_info": {
   "name": "python",
   "version": "3.10.2 (tags/v3.10.2:a58ebcc, Jan 17 2022, 14:12:15) [MSC v.1929 64 bit (AMD64)]"
  },
  "orig_nbformat": 4,
  "vscode": {
   "interpreter": {
    "hash": "b9b90f56be7a04dce6a072eb590a527d5c6deefa0e43e3cbc6ba4a95203c47c6"
   }
  }
 },
 "nbformat": 4,
 "nbformat_minor": 2
}
